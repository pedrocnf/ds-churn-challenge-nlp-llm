{
 "cells": [
  {
   "cell_type": "code",
   "execution_count": 1,
   "metadata": {},
   "outputs": [],
   "source": [
    "import pandas as pd\n",
    "from io import StringIO"
   ]
  },
  {
   "cell_type": "code",
   "execution_count": 2,
   "metadata": {},
   "outputs": [
    {
     "name": "stderr",
     "output_type": "stream",
     "text": [
      "C:\\Users\\pedro\\AppData\\Roaming\\Python\\Python39\\site-packages\\matplotlib\\projections\\__init__.py:63: UserWarning: Unable to import Axes3D. This may be due to multiple versions of Matplotlib being installed (e.g. as a system package and as a pip package). As a result, the 3D projection is not available.\n",
      "  warnings.warn(\"Unable to import Axes3D. This may be due to multiple versions of \"\n"
     ]
    }
   ],
   "source": [
    "from config import raw_path, processed_path\n",
    "from utils import count_na, translate_to_english"
   ]
  },
  {
   "cell_type": "code",
   "execution_count": 3,
   "metadata": {},
   "outputs": [
    {
     "name": "stdout",
     "output_type": "stream",
     "text": [
      "Linha 29 contém um erro de análise e será ignorada.\n",
      "<class 'pandas.core.frame.DataFrame'>\n",
      "RangeIndex: 101 entries, 0 to 100\n",
      "Data columns (total 15 columns):\n",
      " #   Column                       Non-Null Count  Dtype  \n",
      "---  ------                       --------------  -----  \n",
      " 0   ID                           101 non-null    int64  \n",
      " 1   Nome                         101 non-null    object \n",
      " 2   Idade                        101 non-null    int64  \n",
      " 3   Gênero                       101 non-null    object \n",
      " 4   Localização                  101 non-null    object \n",
      " 5   Estado Civil                 101 non-null    object \n",
      " 6   Número de Dependentes        101 non-null    int64  \n",
      " 7   Data de Início do Contrato   101 non-null    object \n",
      " 8   Data de Término do Contrato  4 non-null      object \n",
      " 9   Valor Mensal do Contrato     101 non-null    float64\n",
      " 10  Tipo de Serviço              101 non-null    object \n",
      " 11  Duração Média das Chamadas   61 non-null     float64\n",
      " 12  Volume de Dados              86 non-null     object \n",
      " 13  Número de Reclamações        101 non-null    object \n",
      " 14  Comentários                  68 non-null     object \n",
      "dtypes: float64(2), int64(3), object(10)\n",
      "memory usage: 12.0+ KB\n"
     ]
    }
   ],
   "source": [
    "valid_lines = []\n",
    "\n",
    "with open(raw_path, 'r', encoding='utf-8') as file:\n",
    "    for i, line in enumerate(file, start=1):\n",
    "        try:\n",
    "            pd.read_csv(StringIO(line), header=None)\n",
    "            valid_lines.append(line)\n",
    "        except pd.errors.ParserError:\n",
    "            print(f\"Linha {i} contém um erro de análise e será ignorada.\")\n",
    "\n",
    "\n",
    "df = pd.read_csv(StringIO(''.join(valid_lines)))\n",
    "\n",
    "df.info()\n"
   ]
  },
  {
   "cell_type": "code",
   "execution_count": 4,
   "metadata": {},
   "outputs": [
    {
     "data": {
      "text/html": [
       "<div>\n",
       "<style scoped>\n",
       "    .dataframe tbody tr th:only-of-type {\n",
       "        vertical-align: middle;\n",
       "    }\n",
       "\n",
       "    .dataframe tbody tr th {\n",
       "        vertical-align: top;\n",
       "    }\n",
       "\n",
       "    .dataframe thead th {\n",
       "        text-align: right;\n",
       "    }\n",
       "</style>\n",
       "<table border=\"1\" class=\"dataframe\">\n",
       "  <thead>\n",
       "    <tr style=\"text-align: right;\">\n",
       "      <th></th>\n",
       "      <th>ID</th>\n",
       "      <th>Nome</th>\n",
       "      <th>Idade</th>\n",
       "      <th>Gênero</th>\n",
       "      <th>Localização</th>\n",
       "      <th>Estado Civil</th>\n",
       "      <th>Número de Dependentes</th>\n",
       "      <th>Data de Início do Contrato</th>\n",
       "      <th>Data de Término do Contrato</th>\n",
       "      <th>Valor Mensal do Contrato</th>\n",
       "      <th>Tipo de Serviço</th>\n",
       "      <th>Duração Média das Chamadas</th>\n",
       "      <th>Volume de Dados</th>\n",
       "      <th>Número de Reclamações</th>\n",
       "      <th>Comentários</th>\n",
       "    </tr>\n",
       "  </thead>\n",
       "  <tbody>\n",
       "    <tr>\n",
       "      <th>0</th>\n",
       "      <td>1</td>\n",
       "      <td>João Silva</td>\n",
       "      <td>35</td>\n",
       "      <td>Masculino</td>\n",
       "      <td>São Paulo/SP/São Paulo</td>\n",
       "      <td>Casado</td>\n",
       "      <td>2</td>\n",
       "      <td>2018-05-10</td>\n",
       "      <td>NaN</td>\n",
       "      <td>79.99</td>\n",
       "      <td>Telefonia Móvel</td>\n",
       "      <td>4.5</td>\n",
       "      <td>2.3 GB</td>\n",
       "      <td>2</td>\n",
       "      <td>O serviço de internet tem sido instável. Estou...</td>\n",
       "    </tr>\n",
       "    <tr>\n",
       "      <th>1</th>\n",
       "      <td>2</td>\n",
       "      <td>Maria Santos</td>\n",
       "      <td>28</td>\n",
       "      <td>Feminino</td>\n",
       "      <td>Rio de Janeiro/RJ/Rio de Janeiro</td>\n",
       "      <td>Solteiro</td>\n",
       "      <td>0</td>\n",
       "      <td>2019-03-15</td>\n",
       "      <td>NaN</td>\n",
       "      <td>109.99</td>\n",
       "      <td>Internet</td>\n",
       "      <td>NaN</td>\n",
       "      <td>-</td>\n",
       "      <td>0</td>\n",
       "      <td>Estou satisfeita com o serviço. A velocidade d...</td>\n",
       "    </tr>\n",
       "    <tr>\n",
       "      <th>2</th>\n",
       "      <td>3</td>\n",
       "      <td>Carlos Oliveira</td>\n",
       "      <td>42</td>\n",
       "      <td>Masculino</td>\n",
       "      <td>Belo Horizonte/MG/Minas Gerais</td>\n",
       "      <td>Casado</td>\n",
       "      <td>1</td>\n",
       "      <td>2020-01-20</td>\n",
       "      <td>2021-06-30</td>\n",
       "      <td>139.99</td>\n",
       "      <td>Internet</td>\n",
       "      <td>NaN</td>\n",
       "      <td>-</td>\n",
       "      <td>1</td>\n",
       "      <td>Tive problemas com a fatura deste mês. O valor...</td>\n",
       "    </tr>\n",
       "  </tbody>\n",
       "</table>\n",
       "</div>"
      ],
      "text/plain": [
       "   ID             Nome  Idade     Gênero                       Localização  \\\n",
       "0   1       João Silva     35  Masculino            São Paulo/SP/São Paulo   \n",
       "1   2     Maria Santos     28   Feminino  Rio de Janeiro/RJ/Rio de Janeiro   \n",
       "2   3  Carlos Oliveira     42  Masculino    Belo Horizonte/MG/Minas Gerais   \n",
       "\n",
       "  Estado Civil  Número de Dependentes Data de Início do Contrato  \\\n",
       "0       Casado                      2                 2018-05-10   \n",
       "1     Solteiro                      0                 2019-03-15   \n",
       "2       Casado                      1                 2020-01-20   \n",
       "\n",
       "  Data de Término do Contrato  Valor Mensal do Contrato  Tipo de Serviço  \\\n",
       "0                         NaN                     79.99  Telefonia Móvel   \n",
       "1                         NaN                    109.99         Internet   \n",
       "2                  2021-06-30                    139.99         Internet   \n",
       "\n",
       "   Duração Média das Chamadas Volume de Dados Número de Reclamações  \\\n",
       "0                         4.5          2.3 GB                     2   \n",
       "1                         NaN               -                     0   \n",
       "2                         NaN               -                     1   \n",
       "\n",
       "                                         Comentários  \n",
       "0  O serviço de internet tem sido instável. Estou...  \n",
       "1  Estou satisfeita com o serviço. A velocidade d...  \n",
       "2  Tive problemas com a fatura deste mês. O valor...  "
      ]
     },
     "execution_count": 4,
     "metadata": {},
     "output_type": "execute_result"
    }
   ],
   "source": [
    "df.head(3)"
   ]
  },
  {
   "cell_type": "code",
   "execution_count": 5,
   "metadata": {},
   "outputs": [
    {
     "data": {
      "text/plain": [
       "ID                              0\n",
       "Nome                            0\n",
       "Idade                           0\n",
       "Gênero                          0\n",
       "Localização                     0\n",
       "Estado Civil                    0\n",
       "Número de Dependentes           0\n",
       "Data de Início do Contrato      0\n",
       "Data de Término do Contrato    97\n",
       "Valor Mensal do Contrato        0\n",
       "Tipo de Serviço                 0\n",
       "Duração Média das Chamadas     40\n",
       "Volume de Dados                15\n",
       "Número de Reclamações           0\n",
       "Comentários                    33\n",
       "dtype: int64"
      ]
     },
     "execution_count": 5,
     "metadata": {},
     "output_type": "execute_result"
    }
   ],
   "source": [
    "count_na(df)"
   ]
  },
  {
   "cell_type": "code",
   "execution_count": 6,
   "metadata": {},
   "outputs": [],
   "source": [
    "df['Comentários'] = df['Comentários'].fillna(df['Número de Reclamações'])\n"
   ]
  },
  {
   "cell_type": "code",
   "execution_count": 7,
   "metadata": {},
   "outputs": [],
   "source": [
    "df['churn'] = df['Data de Término do Contrato'].notna().astype(int)"
   ]
  },
  {
   "cell_type": "code",
   "execution_count": 8,
   "metadata": {},
   "outputs": [],
   "source": [
    "df[['cidade', 'estado_sigla', 'estado']] = df['Localização'].str.split('/', expand=True)"
   ]
  },
  {
   "cell_type": "code",
   "execution_count": 9,
   "metadata": {},
   "outputs": [],
   "source": [
    "df['Duração Média das Chamadas'] = pd.to_numeric(df['Duração Média das Chamadas'], errors='coerce')\n",
    "df['Número de Reclamações'] = pd.to_numeric(df['Número de Reclamações'], errors='coerce')"
   ]
  },
  {
   "cell_type": "code",
   "execution_count": 10,
   "metadata": {},
   "outputs": [],
   "source": [
    "df['Volume de Dados'] = df['Volume de Dados'].str.extract('([\\d.]+)', expand=False).astype(float)"
   ]
  },
  {
   "cell_type": "code",
   "execution_count": 11,
   "metadata": {},
   "outputs": [],
   "source": [
    "df['Data de Início do Contrato'] = pd.to_datetime(df['Data de Início do Contrato'])\n",
    "df['Data de Término do Contrato'] = pd.to_datetime(df['Data de Término do Contrato'])\n",
    "df['duracao_contrato'] = pd.to_timedelta(df['Data de Término do Contrato'] - df['Data de Início do Contrato']).dt.days"
   ]
  },
  {
   "cell_type": "code",
   "execution_count": 12,
   "metadata": {},
   "outputs": [],
   "source": [
    "df['Comentários'] = df['Comentários'].astype(str)\n",
    "df['Tipo de Serviço'] = df['Tipo de Serviço'].astype(str)\n",
    "df['estado_sigla'] = df['estado_sigla'].astype(str)\n",
    "df['cidade'] = df['cidade'].astype(str)\n",
    "\n",
    "df['Gênero'] = df['Gênero'].astype(str)\n",
    "df['Estado Civil'] = df['Estado Civil'].astype(str)\n",
    "\n",
    "df['cidade'] = df['cidade'].astype(str)\n",
    "df['estado_sigla'] = df['estado_sigla'].astype(str)"
   ]
  },
  {
   "cell_type": "code",
   "execution_count": 13,
   "metadata": {},
   "outputs": [
    {
     "name": "stdout",
     "output_type": "stream",
     "text": [
      "<class 'pandas.core.frame.DataFrame'>\n",
      "RangeIndex: 101 entries, 0 to 100\n",
      "Data columns (total 20 columns):\n",
      " #   Column                       Non-Null Count  Dtype         \n",
      "---  ------                       --------------  -----         \n",
      " 0   ID                           101 non-null    int64         \n",
      " 1   Nome                         101 non-null    object        \n",
      " 2   Idade                        101 non-null    int64         \n",
      " 3   Gênero                       101 non-null    object        \n",
      " 4   Localização                  101 non-null    object        \n",
      " 5   Estado Civil                 101 non-null    object        \n",
      " 6   Número de Dependentes        101 non-null    int64         \n",
      " 7   Data de Início do Contrato   101 non-null    datetime64[ns]\n",
      " 8   Data de Término do Contrato  4 non-null      datetime64[ns]\n",
      " 9   Valor Mensal do Contrato     101 non-null    float64       \n",
      " 10  Tipo de Serviço              101 non-null    object        \n",
      " 11  Duração Média das Chamadas   61 non-null     float64       \n",
      " 12  Volume de Dados              13 non-null     float64       \n",
      " 13  Número de Reclamações        53 non-null     float64       \n",
      " 14  Comentários                  101 non-null    object        \n",
      " 15  churn                        101 non-null    int32         \n",
      " 16  cidade                       101 non-null    object        \n",
      " 17  estado_sigla                 101 non-null    object        \n",
      " 18  estado                       98 non-null     object        \n",
      " 19  duracao_contrato             4 non-null      float64       \n",
      "dtypes: datetime64[ns](2), float64(5), int32(1), int64(3), object(9)\n",
      "memory usage: 15.5+ KB\n"
     ]
    }
   ],
   "source": [
    "df.info()"
   ]
  },
  {
   "cell_type": "code",
   "execution_count": 14,
   "metadata": {},
   "outputs": [],
   "source": [
    "del(df['ID'])\n",
    "del(df['Nome'])\n",
    "del(df['Localização'])\n",
    "del(df['estado'])"
   ]
  },
  {
   "cell_type": "code",
   "execution_count": 15,
   "metadata": {},
   "outputs": [],
   "source": [
    "#df['comentarios_eng'] = df['Comentários'].apply(translate_to_english)"
   ]
  },
  {
   "cell_type": "code",
   "execution_count": 18,
   "metadata": {},
   "outputs": [
    {
     "name": "stdout",
     "output_type": "stream",
     "text": [
      "<class 'pandas.core.frame.DataFrame'>\n",
      "RangeIndex: 101 entries, 0 to 100\n",
      "Data columns (total 16 columns):\n",
      " #   Column                       Non-Null Count  Dtype         \n",
      "---  ------                       --------------  -----         \n",
      " 0   Idade                        101 non-null    int64         \n",
      " 1   Gênero                       101 non-null    object        \n",
      " 2   Estado Civil                 101 non-null    object        \n",
      " 3   Número de Dependentes        101 non-null    int64         \n",
      " 4   Data de Início do Contrato   101 non-null    datetime64[ns]\n",
      " 5   Data de Término do Contrato  4 non-null      datetime64[ns]\n",
      " 6   Valor Mensal do Contrato     101 non-null    float64       \n",
      " 7   Tipo de Serviço              101 non-null    object        \n",
      " 8   Duração Média das Chamadas   61 non-null     float64       \n",
      " 9   Volume de Dados              13 non-null     float64       \n",
      " 10  Número de Reclamações        53 non-null     float64       \n",
      " 11  Comentários                  101 non-null    object        \n",
      " 12  churn                        101 non-null    int32         \n",
      " 13  cidade                       101 non-null    object        \n",
      " 14  estado_sigla                 101 non-null    object        \n",
      " 15  duracao_contrato             4 non-null      float64       \n",
      "dtypes: datetime64[ns](2), float64(5), int32(1), int64(2), object(6)\n",
      "memory usage: 12.4+ KB\n"
     ]
    }
   ],
   "source": [
    "df.info()"
   ]
  },
  {
   "cell_type": "code",
   "execution_count": 21,
   "metadata": {},
   "outputs": [],
   "source": [
    "from googletrans import Translator\n",
    "translator = Translator()\n",
    "# translator.translate('안녕하세요.')\n",
    "# translator.translate('안녕하세요.', dest='ja')\n",
    "#translator.translate('veritas lux mea', src='la')\n",
    "# <Translated src=la dest=en text=The truth is my light pronunciation=The truth is my light>"
   ]
  },
  {
   "cell_type": "code",
   "execution_count": 36,
   "metadata": {},
   "outputs": [],
   "source": [
    "import translators as ts\n",
    "\n",
    "# def translate(comment):\n",
    "#     return ts.google(comment, to_language='eng', sleep_seconds=2)\n",
    "\n",
    "def translate(comment):\n",
    "    return ts.translate_text(comment, translator='bing', to_language = 'en', sleep_seconds=1)\n",
    "\n",
    "# print(ts.translators_pool)\n",
    "# print(ts.translate_text(df['Comentários'][0], translator='bing', to_language = 'en', sleep_seconds=1))"
   ]
  },
  {
   "cell_type": "code",
   "execution_count": 37,
   "metadata": {},
   "outputs": [],
   "source": [
    "df['comentarios_eng'] = df['Comentários'].apply(translate)"
   ]
  },
  {
   "cell_type": "code",
   "execution_count": 41,
   "metadata": {},
   "outputs": [
    {
     "name": "stdout",
     "output_type": "stream",
     "text": [
      "0      Internet service has been unstable. I'm having...\n",
      "1      I am satisfied with the service. The internet ...\n",
      "2      I had problems with this month's invoice. The ...\n",
      "3      No complaints so far. The service has met my e...\n",
      "4      The sports channel is not working properly. Th...\n",
      "                             ...                        \n",
      "96     I am extremely disappointed with this company'...\n",
      "97     This company's internet is a real nightmare. T...\n",
      "98     This company's cable TV service is a total dis...\n",
      "99     This company's landline telephony is a disgrac...\n",
      "100    This company's mobile phone is a complete disa...\n",
      "Name: comentarios_eng, Length: 101, dtype: object\n"
     ]
    }
   ],
   "source": [
    "print(df['comentarios_eng'])"
   ]
  },
  {
   "cell_type": "code",
   "execution_count": 42,
   "metadata": {},
   "outputs": [
    {
     "data": {
      "text/html": [
       "<div>\n",
       "<style scoped>\n",
       "    .dataframe tbody tr th:only-of-type {\n",
       "        vertical-align: middle;\n",
       "    }\n",
       "\n",
       "    .dataframe tbody tr th {\n",
       "        vertical-align: top;\n",
       "    }\n",
       "\n",
       "    .dataframe thead th {\n",
       "        text-align: right;\n",
       "    }\n",
       "</style>\n",
       "<table border=\"1\" class=\"dataframe\">\n",
       "  <thead>\n",
       "    <tr style=\"text-align: right;\">\n",
       "      <th></th>\n",
       "      <th>Idade</th>\n",
       "      <th>Gênero</th>\n",
       "      <th>Estado Civil</th>\n",
       "      <th>Número de Dependentes</th>\n",
       "      <th>Data de Início do Contrato</th>\n",
       "      <th>Data de Término do Contrato</th>\n",
       "      <th>Valor Mensal do Contrato</th>\n",
       "      <th>Tipo de Serviço</th>\n",
       "      <th>Duração Média das Chamadas</th>\n",
       "      <th>Volume de Dados</th>\n",
       "      <th>Número de Reclamações</th>\n",
       "      <th>Comentários</th>\n",
       "      <th>churn</th>\n",
       "      <th>cidade</th>\n",
       "      <th>estado_sigla</th>\n",
       "      <th>duracao_contrato</th>\n",
       "      <th>comentarios_eng</th>\n",
       "    </tr>\n",
       "  </thead>\n",
       "  <tbody>\n",
       "    <tr>\n",
       "      <th>0</th>\n",
       "      <td>35</td>\n",
       "      <td>Masculino</td>\n",
       "      <td>Casado</td>\n",
       "      <td>2</td>\n",
       "      <td>2018-05-10</td>\n",
       "      <td>NaT</td>\n",
       "      <td>79.99</td>\n",
       "      <td>Telefonia Móvel</td>\n",
       "      <td>4.5</td>\n",
       "      <td>2.3</td>\n",
       "      <td>2.0</td>\n",
       "      <td>O serviço de internet tem sido instável. Estou...</td>\n",
       "      <td>0</td>\n",
       "      <td>São Paulo</td>\n",
       "      <td>SP</td>\n",
       "      <td>NaN</td>\n",
       "      <td>Internet service has been unstable. I'm having...</td>\n",
       "    </tr>\n",
       "    <tr>\n",
       "      <th>1</th>\n",
       "      <td>28</td>\n",
       "      <td>Feminino</td>\n",
       "      <td>Solteiro</td>\n",
       "      <td>0</td>\n",
       "      <td>2019-03-15</td>\n",
       "      <td>NaT</td>\n",
       "      <td>109.99</td>\n",
       "      <td>Internet</td>\n",
       "      <td>NaN</td>\n",
       "      <td>NaN</td>\n",
       "      <td>0.0</td>\n",
       "      <td>Estou satisfeita com o serviço. A velocidade d...</td>\n",
       "      <td>0</td>\n",
       "      <td>Rio de Janeiro</td>\n",
       "      <td>RJ</td>\n",
       "      <td>NaN</td>\n",
       "      <td>I am satisfied with the service. The internet ...</td>\n",
       "    </tr>\n",
       "    <tr>\n",
       "      <th>2</th>\n",
       "      <td>42</td>\n",
       "      <td>Masculino</td>\n",
       "      <td>Casado</td>\n",
       "      <td>1</td>\n",
       "      <td>2020-01-20</td>\n",
       "      <td>2021-06-30</td>\n",
       "      <td>139.99</td>\n",
       "      <td>Internet</td>\n",
       "      <td>NaN</td>\n",
       "      <td>NaN</td>\n",
       "      <td>1.0</td>\n",
       "      <td>Tive problemas com a fatura deste mês. O valor...</td>\n",
       "      <td>1</td>\n",
       "      <td>Belo Horizonte</td>\n",
       "      <td>MG</td>\n",
       "      <td>527.0</td>\n",
       "      <td>I had problems with this month's invoice. The ...</td>\n",
       "    </tr>\n",
       "    <tr>\n",
       "      <th>3</th>\n",
       "      <td>55</td>\n",
       "      <td>Feminino</td>\n",
       "      <td>Viúvo</td>\n",
       "      <td>0</td>\n",
       "      <td>2017-09-01</td>\n",
       "      <td>NaT</td>\n",
       "      <td>159.99</td>\n",
       "      <td>Telefonia Fixa</td>\n",
       "      <td>6.2</td>\n",
       "      <td>NaN</td>\n",
       "      <td>NaN</td>\n",
       "      <td>Sem reclamações até o momento. O serviço tem a...</td>\n",
       "      <td>0</td>\n",
       "      <td>Porto Alegre</td>\n",
       "      <td>RS</td>\n",
       "      <td>NaN</td>\n",
       "      <td>No complaints so far. The service has met my e...</td>\n",
       "    </tr>\n",
       "    <tr>\n",
       "      <th>4</th>\n",
       "      <td>41</td>\n",
       "      <td>Masculino</td>\n",
       "      <td>Divorciado</td>\n",
       "      <td>3</td>\n",
       "      <td>2019-11-12</td>\n",
       "      <td>2022-01-05</td>\n",
       "      <td>99.99</td>\n",
       "      <td>TV a Cabo</td>\n",
       "      <td>NaN</td>\n",
       "      <td>NaN</td>\n",
       "      <td>0.0</td>\n",
       "      <td>O canal de esportes não está funcionando corre...</td>\n",
       "      <td>1</td>\n",
       "      <td>Brasília</td>\n",
       "      <td>DF</td>\n",
       "      <td>785.0</td>\n",
       "      <td>The sports channel is not working properly. Th...</td>\n",
       "    </tr>\n",
       "  </tbody>\n",
       "</table>\n",
       "</div>"
      ],
      "text/plain": [
       "   Idade     Gênero Estado Civil  Número de Dependentes  \\\n",
       "0     35  Masculino       Casado                      2   \n",
       "1     28   Feminino     Solteiro                      0   \n",
       "2     42  Masculino       Casado                      1   \n",
       "3     55   Feminino        Viúvo                      0   \n",
       "4     41  Masculino   Divorciado                      3   \n",
       "\n",
       "  Data de Início do Contrato Data de Término do Contrato  \\\n",
       "0                 2018-05-10                         NaT   \n",
       "1                 2019-03-15                         NaT   \n",
       "2                 2020-01-20                  2021-06-30   \n",
       "3                 2017-09-01                         NaT   \n",
       "4                 2019-11-12                  2022-01-05   \n",
       "\n",
       "   Valor Mensal do Contrato  Tipo de Serviço  Duração Média das Chamadas  \\\n",
       "0                     79.99  Telefonia Móvel                         4.5   \n",
       "1                    109.99         Internet                         NaN   \n",
       "2                    139.99         Internet                         NaN   \n",
       "3                    159.99   Telefonia Fixa                         6.2   \n",
       "4                     99.99        TV a Cabo                         NaN   \n",
       "\n",
       "   Volume de Dados  Número de Reclamações  \\\n",
       "0              2.3                    2.0   \n",
       "1              NaN                    0.0   \n",
       "2              NaN                    1.0   \n",
       "3              NaN                    NaN   \n",
       "4              NaN                    0.0   \n",
       "\n",
       "                                         Comentários  churn          cidade  \\\n",
       "0  O serviço de internet tem sido instável. Estou...      0       São Paulo   \n",
       "1  Estou satisfeita com o serviço. A velocidade d...      0  Rio de Janeiro   \n",
       "2  Tive problemas com a fatura deste mês. O valor...      1  Belo Horizonte   \n",
       "3  Sem reclamações até o momento. O serviço tem a...      0    Porto Alegre   \n",
       "4  O canal de esportes não está funcionando corre...      1        Brasília   \n",
       "\n",
       "  estado_sigla  duracao_contrato  \\\n",
       "0           SP               NaN   \n",
       "1           RJ               NaN   \n",
       "2           MG             527.0   \n",
       "3           RS               NaN   \n",
       "4           DF             785.0   \n",
       "\n",
       "                                     comentarios_eng  \n",
       "0  Internet service has been unstable. I'm having...  \n",
       "1  I am satisfied with the service. The internet ...  \n",
       "2  I had problems with this month's invoice. The ...  \n",
       "3  No complaints so far. The service has met my e...  \n",
       "4  The sports channel is not working properly. Th...  "
      ]
     },
     "execution_count": 42,
     "metadata": {},
     "output_type": "execute_result"
    }
   ],
   "source": [
    "df.head()"
   ]
  },
  {
   "cell_type": "code",
   "execution_count": 30,
   "metadata": {},
   "outputs": [
    {
     "ename": "AttributeError",
     "evalue": "module 'translators' has no attribute 'google'",
     "output_type": "error",
     "traceback": [
      "\u001b[1;31m---------------------------------------------------------------------------\u001b[0m",
      "\u001b[1;31mAttributeError\u001b[0m                            Traceback (most recent call last)",
      "\u001b[1;32mh:\\Meu Drive\\ESTRATEGIA\\Case-A3-Data\\ds-churn-challenge-nlp-llm\\1. Data Pre-Processing.ipynb Cell 20\u001b[0m line \u001b[0;36m1\n\u001b[1;32m----> <a href='vscode-notebook-cell:/h%3A/Meu%20Drive/ESTRATEGIA/Case-A3-Data/ds-churn-challenge-nlp-llm/1.%20Data%20Pre-Processing.ipynb#X26sZmlsZQ%3D%3D?line=0'>1</a>\u001b[0m \u001b[39mprint\u001b[39m(translate(df[\u001b[39m'\u001b[39;49m\u001b[39mComentários\u001b[39;49m\u001b[39m'\u001b[39;49m][\u001b[39m0\u001b[39;49m]))\n",
      "\u001b[1;32mh:\\Meu Drive\\ESTRATEGIA\\Case-A3-Data\\ds-churn-challenge-nlp-llm\\1. Data Pre-Processing.ipynb Cell 20\u001b[0m line \u001b[0;36m4\n\u001b[0;32m      <a href='vscode-notebook-cell:/h%3A/Meu%20Drive/ESTRATEGIA/Case-A3-Data/ds-churn-challenge-nlp-llm/1.%20Data%20Pre-Processing.ipynb#X26sZmlsZQ%3D%3D?line=2'>3</a>\u001b[0m \u001b[39mdef\u001b[39;00m \u001b[39mtranslate\u001b[39m(comment):\n\u001b[1;32m----> <a href='vscode-notebook-cell:/h%3A/Meu%20Drive/ESTRATEGIA/Case-A3-Data/ds-churn-challenge-nlp-llm/1.%20Data%20Pre-Processing.ipynb#X26sZmlsZQ%3D%3D?line=3'>4</a>\u001b[0m     \u001b[39mreturn\u001b[39;00m ts\u001b[39m.\u001b[39;49mgoogle(comment, to_language\u001b[39m=\u001b[39m\u001b[39m'\u001b[39m\u001b[39meng\u001b[39m\u001b[39m'\u001b[39m, sleep_seconds\u001b[39m=\u001b[39m\u001b[39m2\u001b[39m)\n",
      "\u001b[1;31mAttributeError\u001b[0m: module 'translators' has no attribute 'google'"
     ]
    }
   ],
   "source": [
    "print(translate(df['Comentários'][0]))"
   ]
  },
  {
   "cell_type": "code",
   "execution_count": 39,
   "metadata": {},
   "outputs": [],
   "source": [
    "df.to_parquet(processed_path)"
   ]
  }
 ],
 "metadata": {
  "kernelspec": {
   "display_name": "data-science",
   "language": "python",
   "name": "python3"
  },
  "language_info": {
   "codemirror_mode": {
    "name": "ipython",
    "version": 3
   },
   "file_extension": ".py",
   "mimetype": "text/x-python",
   "name": "python",
   "nbconvert_exporter": "python",
   "pygments_lexer": "ipython3",
   "version": "3.9.18"
  }
 },
 "nbformat": 4,
 "nbformat_minor": 2
}
